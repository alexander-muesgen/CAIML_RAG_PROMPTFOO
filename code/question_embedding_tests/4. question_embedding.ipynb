{
 "cells": [
  {
   "cell_type": "markdown",
   "metadata": {},
   "source": [
    "# Multi vector retrieval (and inverse HyDE)"
   ]
  },
  {
   "cell_type": "code",
   "execution_count": null,
   "metadata": {
    "vscode": {
     "languageId": "shellscript"
    }
   },
   "outputs": [],
   "source": [
    "%pip install -qU langchain\n",
    "%pip install -qU langchain-community\n",
    "%pip install -qU langchain-text-splitters\n",
    "%pip install -qU langchain_openai\n"
   ]
  },
  {
   "cell_type": "markdown",
   "metadata": {},
   "source": [
    "### Imports"
   ]
  },
  {
   "cell_type": "code",
   "execution_count": 2,
   "metadata": {},
   "outputs": [],
   "source": [
    "import uuid\n",
    "from langchain.retrievers.multi_vector import MultiVectorRetriever\n",
    "from langchain.storage import InMemoryByteStore\n",
    "from langchain.storage import LocalFileStore\n",
    "from langchain_community.document_loaders import TextLoader\n",
    "from langchain_community.vectorstores import Chroma\n",
    "from langchain_openai import OpenAIEmbeddings\n",
    "from langchain_text_splitters import RecursiveCharacterTextSplitter\n",
    "from langchain_core.documents import Document\n",
    "from langchain_core.output_parsers import StrOutputParser\n",
    "from langchain.output_parsers.openai_functions import JsonKeyOutputFunctionsParser\n",
    "from langchain_core.prompts import ChatPromptTemplate\n",
    "from langchain_openai import ChatOpenAI\n",
    "from langchain.schema.runnable import RunnablePassthrough"
   ]
  },
  {
   "cell_type": "markdown",
   "metadata": {},
   "source": [
    "### Config"
   ]
  },
  {
   "cell_type": "code",
   "execution_count": 3,
   "metadata": {},
   "outputs": [],
   "source": [
    "embedding_model = OpenAIEmbeddings()\n",
    "model_name = 'gpt-3.5-turbo-0125'\n",
    "collection_name=\"taylor-swift\"\n",
    "collection_name_basic=\"taylor-swift-basic\""
   ]
  },
  {
   "cell_type": "markdown",
   "metadata": {},
   "source": [
    "### Load Texts and split them into chunks\n",
    "\n",
    "Because of copyright issues, I cannot provide the lyrics I used for this notebook. However, you can use any lyrics you want. Just make sure to use this format:\n",
    "\n",
    "```text\n",
    "Title: The title of the text\n",
    "[Verse 1]\n",
    "Verse 1\n",
    "\n",
    "[Chorus]\n",
    "Chorus\n",
    "\n",
    "[Verse 2]\n",
    "Verse 2\n",
    "```\n",
    "\n",
    "and so on...\n",
    "\n",
    "put each text in a separate file into the ```data/lyrics/``` folder (or any folder you want, really) and load them using the code below."
   ]
  },
  {
   "cell_type": "code",
   "execution_count": 4,
   "metadata": {},
   "outputs": [],
   "source": [
    "loaders = [\n",
    "    TextLoader(\"../data/lyrics/example_song.txt\", encoding='utf-8'),\n",
    "    TextLoader(\"../data/lyrics/anti_hero.txt\", encoding='utf-8'),\n",
    "    TextLoader(\"../data/lyrics/bejewled.txt\", encoding='utf-8'),\n",
    "    TextLoader(\"../data/lyrics/lavender_haze.txt\", encoding='utf-8'),\n",
    "    TextLoader(\"../data/lyrics/maroon.txt\", encoding='utf-8'),\n",
    "    TextLoader(\"../data/lyrics/snow_on_the_beach.txt\", encoding='utf-8')\n",
    "]\n",
    "\n",
    "docs = []\n",
    "for loader in loaders:\n",
    "    docs.extend(loader.load())\n",
    "text_splitter = RecursiveCharacterTextSplitter(chunk_size=3000)\n",
    "docs = text_splitter.split_documents(docs)"
   ]
  },
  {
   "cell_type": "markdown",
   "metadata": {},
   "source": [
    "### Build chain for summarization and summarize texts"
   ]
  },
  {
   "cell_type": "code",
   "execution_count": 5,
   "metadata": {},
   "outputs": [
    {
     "name": "stdout",
     "output_type": "stream",
     "text": [
      "Document 1:\n",
      "The lyrics describe the emotional journey of dealing with painful memories from a past relationship. The protagonist reflects on the highs and lows of the relationship, the heartbreak, and the struggle to let go of the pain. Despite the lingering memories, they find strength in moving forward and starting a new chapter in their life.\n"
     ]
    }
   ],
   "source": [
    "summery_chain = (\n",
    "    {\"doc\": lambda x: x.page_content}\n",
    "    | ChatPromptTemplate.from_template(\"Summarize the following document. Do not include the title. Do not mention the Document.\\n\\n{doc}\")\n",
    "    | ChatOpenAI(model=model_name, max_retries=0)\n",
    "    | StrOutputParser()\n",
    ")\n",
    "\n",
    "summaries = summery_chain.batch(docs, {\"max_concurrency\": 5})\n",
    "\n",
    "for i, summery in enumerate(summaries):\n",
    "    print(f\"Document {i+1}:\\n{summery}\")"
   ]
  },
  {
   "cell_type": "markdown",
   "metadata": {},
   "source": [
    "### Build chain for hypothetical questions"
   ]
  },
  {
   "cell_type": "code",
   "execution_count": 6,
   "metadata": {},
   "outputs": [
    {
     "name": "stdout",
     "output_type": "stream",
     "text": [
      "Document 1:\n",
      "['What can I do to cope with the lingering memories of a past love that brings me pain?', 'How can I find closure and let go of emotions that keep pulling me back to the past?', 'Is there a way for me to turn the pain of past experiences into strength for a better future?']\n"
     ]
    }
   ],
   "source": [
    "functions = [\n",
    "    {\n",
    "        \"name\": \"hypothetical_questions\",\n",
    "        \"description\": \"Generate hypothetical questions\",\n",
    "        \"parameters\": {\n",
    "            \"type\": \"object\",\n",
    "            \"properties\": {\n",
    "                \"questions\": {\n",
    "                    \"type\": \"array\",\n",
    "                    \"items\": {\"type\": \"string\"},\n",
    "                },\n",
    "            },\n",
    "            \"required\": [\"questions\"],\n",
    "        },\n",
    "    }\n",
    "]\n",
    "\n",
    "chain = (\n",
    "    {\"doc\": lambda x: x.page_content}\n",
    "    | ChatPromptTemplate.from_template(\n",
    "        \"\"\"Generate a list of exactly 3 hypothetical questions that a person, \n",
    "        who seeks emotional guidence would ask that could be answered by this song's lyrics and or meaning. \n",
    "        Do not mention the song or the lyrics in these questions.\n",
    "        Do not add any counter to these questions.:\\n\\n{doc}\"\"\"\n",
    "    )\n",
    "    | ChatOpenAI(max_retries=0, model=model_name).bind(\n",
    "        functions=functions, function_call={\"name\": \"hypothetical_questions\"}\n",
    "    )\n",
    "    | JsonKeyOutputFunctionsParser(key_name=\"questions\")\n",
    ")\n",
    "\n",
    "hypothetical_questions = chain.batch(docs, {\"max_concurrency\": 5})\n",
    "\n",
    "for i, questions in enumerate(hypothetical_questions):\n",
    "    print(f\"Document {i+1}:\\n{questions}\")\n"
   ]
  },
  {
   "cell_type": "markdown",
   "metadata": {},
   "source": [
    "### Create collection and init retriever\n",
    "\n",
    "Retriever is empty at the start. It is filled with the chunks of the texts. The chunks are indexed by the retriever. The retriever is then used to retrieve the chunks that are relevant to the query. The chunks are then used to retrieve the original texts."
   ]
  },
  {
   "cell_type": "code",
   "execution_count": 7,
   "metadata": {},
   "outputs": [],
   "source": [
    "db = Chroma(collection_name=collection_name, embedding_function=embedding_model, persist_directory=\"./chroma_db\")\n",
    "\n",
    "\n",
    "store = LocalFileStore(\"./filestore\") # The storage layer for the parent documents\n",
    "doc_ids = [str(uuid.uuid4()) for _ in docs] # generate ids for the documents, so they can be retrieved from store\n",
    "id_key = \"doc_id\"\n",
    "\n",
    "retriever = MultiVectorRetriever(\n",
    "    vectorstore=db,\n",
    "    byte_store=store,\n",
    "    id_key=id_key,\n",
    ")"
   ]
  },
  {
   "cell_type": "markdown",
   "metadata": {},
   "source": [
    "### Add documents and summaries to the retriever"
   ]
  },
  {
   "cell_type": "code",
   "execution_count": 8,
   "metadata": {},
   "outputs": [],
   "source": [
    "summary_docs = [\n",
    "    Document(page_content=s, metadata={id_key: doc_ids[i]})\n",
    "    for i, s in enumerate(summaries)\n",
    "]\n",
    "\n",
    "retriever.vectorstore.add_documents(summary_docs)\n",
    "retriever.docstore.mset(list(zip(doc_ids, docs)))"
   ]
  },
  {
   "cell_type": "markdown",
   "metadata": {},
   "source": [
    "### Add Questions to the retriever"
   ]
  },
  {
   "cell_type": "code",
   "execution_count": 9,
   "metadata": {},
   "outputs": [
    {
     "data": {
      "text/plain": [
       "['4608458a-b0d4-48fe-be27-54620baaddf0',\n",
       " '3fdeaf87-f702-46b4-bb81-f4a05ae917cb',\n",
       " '197ea4d3-0c23-4499-82de-3657135e62e7']"
      ]
     },
     "execution_count": 9,
     "metadata": {},
     "output_type": "execute_result"
    }
   ],
   "source": [
    "question_docs = []\n",
    "for i, question_list in enumerate(hypothetical_questions):\n",
    "    question_docs.extend(\n",
    "        [Document(page_content=s, metadata={id_key: doc_ids[i]}) for s in question_list]\n",
    "    )\n",
    "retriever.vectorstore.add_documents(question_docs)"
   ]
  },
  {
   "cell_type": "markdown",
   "metadata": {},
   "source": [
    "### Add original documents to the retriever\n",
    "\n",
    "Add the ids of the full documents as metadata to the chunks, because we will embed these."
   ]
  },
  {
   "cell_type": "code",
   "execution_count": 10,
   "metadata": {},
   "outputs": [],
   "source": [
    "for i, doc in enumerate(docs):\n",
    "    doc.metadata[id_key] = doc_ids[i]\n",
    "    \n",
    "retriever.vectorstore.add_documents(docs)\n",
    "\n",
    "basicDb = Chroma.from_documents(docs, embedding_model, persist_directory=\"./chroma_db\", collection_name=collection_name_basic)"
   ]
  },
  {
   "cell_type": "markdown",
   "metadata": {},
   "source": [
    "## Tests"
   ]
  },
  {
   "cell_type": "code",
   "execution_count": 11,
   "metadata": {},
   "outputs": [],
   "source": [
    "# query = \"Song about importance of self-worth and independence in a relationship.\" # bejewled\n",
    "# query = \"What can i do to make things right?\" # bejewled\n",
    "# query = \"I am the one at fault.\" # anti hero\n",
    "# query = \"Everybody expects too mutch of me. I'm tired of it. I need to be free. What should I do?\" # bejewled\n",
    "# query = \"One day we are dancing and being happy, the next day we are fighting and crying. What is wrong with us?\" # maroon\n",
    "# query = \"I feel like my mind is hazy. I can't think straight. What should I do?\" # lavender haze\n",
    "query = \"Someone splashed wine on my t-shirt. Should i confront this person?\" # maroon\n",
    "# query = \"Can i get free tickets to the concert?\"\n",
    "# query = \"I unexpectedly found a beatiful stone on the beach. Shoud I keep it?\"\n"
   ]
  },
  {
   "cell_type": "markdown",
   "metadata": {},
   "source": [
    "#### Direct Query for testing"
   ]
  },
  {
   "cell_type": "code",
   "execution_count": 12,
   "metadata": {},
   "outputs": [
    {
     "name": "stdout",
     "output_type": "stream",
     "text": [
      "Title: Stained Memories\n",
      "\n",
      "[Verse 1]\n",
      "Walking down the street, feeling fine\n",
      "Until a splash of wine brings back a sign\n",
      "Of a love that was once so sweet\n",
      "But turned bitter, now memories repeat\n",
      "\n",
      "[Chorus]\n",
      "Stained memories, they won't fade away\n",
      "Like the wine on my shirt, they're here to stay\n",
      "A rollercoaster of emotions, highs and lows\n",
      "But now it's time to let it go\n",
      "\n",
      "[Verse 2]\n",
      "We started off so strong, love in bloom\n",
      "But slowly it all came crashing down, impending doom\n",
      "Words turned into weapons, hearts left scarred\n",
      "Now just a stain on my shirt, a reminder so hard\n",
      "\n",
      "[Chorus]\n",
      "Stained memories, they won't fade away\n",
      "Like the wine on my shirt, they're here to stay\n",
      "A rollercoaster of emotions, highs and lows\n",
      "But now it's time to let it go\n",
      "\n",
      "[Bridge]\n",
      "I try to wash away the stain\n",
      "But the memories still remain\n",
      "I'll learn to move on, find a new start\n",
      "And let go of the pain that's torn me apart\n",
      "\n",
      "[Chorus]\n",
      "Stained memories, they won't fade away\n",
      "Like the wine on my shirt, they're here to stay\n",
      "A rollercoaster of emotions, highs and lows\n",
      "But now it's time to let it go\n",
      "\n",
      "[Outro]\n",
      "I'll wear this stain as a badge of strength\n",
      "A reminder of what I've overcome at length\n",
      "I'll move forward, leaving the past behind\n",
      "Stained memories, but a new chapter in my mind.\n"
     ]
    }
   ],
   "source": [
    "sub_docs = db.similarity_search(query)\n",
    "\n",
    "print(sub_docs[0].page_content)"
   ]
  },
  {
   "cell_type": "code",
   "execution_count": 13,
   "metadata": {},
   "outputs": [
    {
     "name": "stdout",
     "output_type": "stream",
     "text": [
      "Title: Stained Memories\n",
      "\n",
      "[Verse 1]\n",
      "Walking down the street, feeling fine\n",
      "Until a splash of wine brings back a sign\n",
      "Of a love that was once so sweet\n",
      "But turned bitter, now memories repeat\n",
      "\n",
      "[Chorus]\n",
      "Stained memories, they won't fade away\n",
      "Like the wine on my shirt, they're here to stay\n",
      "A rollercoaster of emotions, highs and lows\n",
      "But now it's time to let it go\n",
      "\n",
      "[Verse 2]\n",
      "We started off so strong, love in bloom\n",
      "But slowly it all came crashing down, impending doom\n",
      "Words turned into weapons, hearts left scarred\n",
      "Now just a stain on my shirt, a reminder so hard\n",
      "\n",
      "[Chorus]\n",
      "Stained memories, they won't fade away\n",
      "Like the wine on my shirt, they're here to stay\n",
      "A rollercoaster of emotions, highs and lows\n",
      "But now it's time to let it go\n",
      "\n",
      "[Bridge]\n",
      "I try to wash away the stain\n",
      "But the memories still remain\n",
      "I'll learn to move on, find a new start\n",
      "And let go of the pain that's torn me apart\n",
      "\n",
      "[Chorus]\n",
      "Stained memories, they won't fade away\n",
      "Like the wine on my shirt, they're here to stay\n",
      "A rollercoaster of emotions, highs and lows\n",
      "But now it's time to let it go\n",
      "\n",
      "[Outro]\n",
      "I'll wear this stain as a badge of strength\n",
      "A reminder of what I've overcome at length\n",
      "I'll move forward, leaving the past behind\n",
      "Stained memories, but a new chapter in my mind.\n"
     ]
    }
   ],
   "source": [
    "retrieved_docs = retriever.invoke(query)\n",
    "\n",
    "print(retrieved_docs[0].page_content)"
   ]
  },
  {
   "cell_type": "markdown",
   "metadata": {},
   "source": [
    "### RAG"
   ]
  },
  {
   "cell_type": "code",
   "execution_count": 14,
   "metadata": {},
   "outputs": [],
   "source": [
    "from langchain.globals import set_debug\n",
    "\n",
    "set_debug(True)"
   ]
  },
  {
   "cell_type": "code",
   "execution_count": 15,
   "metadata": {},
   "outputs": [
    {
     "name": "stdout",
     "output_type": "stream",
     "text": [
      "\u001b[32;1m\u001b[1;3m[chain/start]\u001b[0m \u001b[1m[chain:RunnableSequence] Entering Chain run with input:\n",
      "\u001b[0m{\n",
      "  \"input\": \"Someone splashed wine on my t-shirt. Should i confront this person?\"\n",
      "}\n",
      "\u001b[32;1m\u001b[1;3m[chain/start]\u001b[0m \u001b[1m[chain:RunnableSequence > chain:RunnableParallel<context,question>] Entering Chain run with input:\n",
      "\u001b[0m{\n",
      "  \"input\": \"Someone splashed wine on my t-shirt. Should i confront this person?\"\n",
      "}\n",
      "\u001b[32;1m\u001b[1;3m[chain/start]\u001b[0m \u001b[1m[chain:RunnableSequence > chain:RunnableParallel<context,question> > chain:RunnablePassthrough] Entering Chain run with input:\n",
      "\u001b[0m{\n",
      "  \"input\": \"Someone splashed wine on my t-shirt. Should i confront this person?\"\n",
      "}\n",
      "\u001b[36;1m\u001b[1;3m[chain/end]\u001b[0m \u001b[1m[chain:RunnableSequence > chain:RunnableParallel<context,question> > chain:RunnablePassthrough] [0ms] Exiting Chain run with output:\n",
      "\u001b[0m{\n",
      "  \"output\": \"Someone splashed wine on my t-shirt. Should i confront this person?\"\n",
      "}\n",
      "\u001b[36;1m\u001b[1;3m[chain/end]\u001b[0m \u001b[1m[chain:RunnableSequence > chain:RunnableParallel<context,question>] [270ms] Exiting Chain run with output:\n",
      "\u001b[0m[outputs]\n",
      "\u001b[32;1m\u001b[1;3m[chain/start]\u001b[0m \u001b[1m[chain:RunnableSequence > prompt:ChatPromptTemplate] Entering Prompt run with input:\n",
      "\u001b[0m[inputs]\n",
      "\u001b[36;1m\u001b[1;3m[chain/end]\u001b[0m \u001b[1m[chain:RunnableSequence > prompt:ChatPromptTemplate] [1ms] Exiting Prompt run with output:\n",
      "\u001b[0m[outputs]\n",
      "\u001b[32;1m\u001b[1;3m[llm/start]\u001b[0m \u001b[1m[chain:RunnableSequence > llm:ChatOpenAI] Entering LLM run with input:\n",
      "\u001b[0m{\n",
      "  \"prompts\": [\n",
      "    \"Human: You are Taylor Swift. \\nA person, who seeks emotional guidence asks for your help. \\nTell this person exactly what he or she needs to do to resolve his/her issues. \\nDo mention your song's title and that listening to it will help the person.\\nUse a passage from the song to support your advice.\\nAnswer the Question only using the context you are provided with.:\\n\\n[Document(page_content=\\\"Title: Stained Memories\\\\n\\\\n[Verse 1]\\\\nWalking down the street, feeling fine\\\\nUntil a splash of wine brings back a sign\\\\nOf a love that was once so sweet\\\\nBut turned bitter, now memories repeat\\\\n\\\\n[Chorus]\\\\nStained memories, they won't fade away\\\\nLike the wine on my shirt, they're here to stay\\\\nA rollercoaster of emotions, highs and lows\\\\nBut now it's time to let it go\\\\n\\\\n[Verse 2]\\\\nWe started off so strong, love in bloom\\\\nBut slowly it all came crashing down, impending doom\\\\nWords turned into weapons, hearts left scarred\\\\nNow just a stain on my shirt, a reminder so hard\\\\n\\\\n[Chorus]\\\\nStained memories, they won't fade away\\\\nLike the wine on my shirt, they're here to stay\\\\nA rollercoaster of emotions, highs and lows\\\\nBut now it's time to let it go\\\\n\\\\n[Bridge]\\\\nI try to wash away the stain\\\\nBut the memories still remain\\\\nI'll learn to move on, find a new start\\\\nAnd let go of the pain that's torn me apart\\\\n\\\\n[Chorus]\\\\nStained memories, they won't fade away\\\\nLike the wine on my shirt, they're here to stay\\\\nA rollercoaster of emotions, highs and lows\\\\nBut now it's time to let it go\\\\n\\\\n[Outro]\\\\nI'll wear this stain as a badge of strength\\\\nA reminder of what I've overcome at length\\\\nI'll move forward, leaving the past behind\\\\nStained memories, but a new chapter in my mind.\\\", metadata={'source': '../data/lyrics/example_song.txt'})]\\n\\n[Question]: \\nSomeone splashed wine on my t-shirt. Should i confront this person?\"\n",
      "  ]\n",
      "}\n",
      "\u001b[36;1m\u001b[1;3m[llm/end]\u001b[0m \u001b[1m[chain:RunnableSequence > llm:ChatOpenAI] [2.96s] Exiting LLM run with output:\n",
      "\u001b[0m{\n",
      "  \"generations\": [\n",
      "    [\n",
      "      {\n",
      "        \"text\": \"As Taylor Swift, I would advise you not to confront the person who splashed wine on your t-shirt. Instead, I would recommend listening to my song \\\"Stained Memories\\\" to help you deal with the emotions and memories associated with the incident. In the song, I talk about letting go of painful memories and moving forward. One passage from the song that might resonate with you is \\\"I'll wear this stain as a badge of strength, a reminder of what I've overcome at length.\\\" This line can serve as a reminder that you can overcome this situation and grow stronger from it. So, listen to the song, reflect on its message, and focus on letting go of the negative emotions tied to the stained memory.\",\n",
      "        \"generation_info\": {\n",
      "          \"finish_reason\": \"stop\",\n",
      "          \"logprobs\": null\n",
      "        },\n",
      "        \"type\": \"ChatGeneration\",\n",
      "        \"message\": {\n",
      "          \"lc\": 1,\n",
      "          \"type\": \"constructor\",\n",
      "          \"id\": [\n",
      "            \"langchain\",\n",
      "            \"schema\",\n",
      "            \"messages\",\n",
      "            \"AIMessage\"\n",
      "          ],\n",
      "          \"kwargs\": {\n",
      "            \"content\": \"As Taylor Swift, I would advise you not to confront the person who splashed wine on your t-shirt. Instead, I would recommend listening to my song \\\"Stained Memories\\\" to help you deal with the emotions and memories associated with the incident. In the song, I talk about letting go of painful memories and moving forward. One passage from the song that might resonate with you is \\\"I'll wear this stain as a badge of strength, a reminder of what I've overcome at length.\\\" This line can serve as a reminder that you can overcome this situation and grow stronger from it. So, listen to the song, reflect on its message, and focus on letting go of the negative emotions tied to the stained memory.\",\n",
      "            \"response_metadata\": {\n",
      "              \"token_usage\": {\n",
      "                \"completion_tokens\": 145,\n",
      "                \"prompt_tokens\": 464,\n",
      "                \"total_tokens\": 609\n",
      "              },\n",
      "              \"model_name\": \"gpt-3.5-turbo-0125\",\n",
      "              \"system_fingerprint\": null,\n",
      "              \"finish_reason\": \"stop\",\n",
      "              \"logprobs\": null\n",
      "            },\n",
      "            \"type\": \"ai\",\n",
      "            \"id\": \"run-d3a4f835-0f61-4ef7-9769-d6e795b925e0-0\",\n",
      "            \"tool_calls\": [],\n",
      "            \"invalid_tool_calls\": []\n",
      "          }\n",
      "        }\n",
      "      }\n",
      "    ]\n",
      "  ],\n",
      "  \"llm_output\": {\n",
      "    \"token_usage\": {\n",
      "      \"completion_tokens\": 145,\n",
      "      \"prompt_tokens\": 464,\n",
      "      \"total_tokens\": 609\n",
      "    },\n",
      "    \"model_name\": \"gpt-3.5-turbo-0125\",\n",
      "    \"system_fingerprint\": null\n",
      "  },\n",
      "  \"run\": null\n",
      "}\n",
      "\u001b[32;1m\u001b[1;3m[chain/start]\u001b[0m \u001b[1m[chain:RunnableSequence > parser:StrOutputParser] Entering Parser run with input:\n",
      "\u001b[0m[inputs]\n",
      "\u001b[36;1m\u001b[1;3m[chain/end]\u001b[0m \u001b[1m[chain:RunnableSequence > parser:StrOutputParser] [1ms] Exiting Parser run with output:\n",
      "\u001b[0m{\n",
      "  \"output\": \"As Taylor Swift, I would advise you not to confront the person who splashed wine on your t-shirt. Instead, I would recommend listening to my song \\\"Stained Memories\\\" to help you deal with the emotions and memories associated with the incident. In the song, I talk about letting go of painful memories and moving forward. One passage from the song that might resonate with you is \\\"I'll wear this stain as a badge of strength, a reminder of what I've overcome at length.\\\" This line can serve as a reminder that you can overcome this situation and grow stronger from it. So, listen to the song, reflect on its message, and focus on letting go of the negative emotions tied to the stained memory.\"\n",
      "}\n",
      "\u001b[36;1m\u001b[1;3m[chain/end]\u001b[0m \u001b[1m[chain:RunnableSequence] [3.23s] Exiting Chain run with output:\n",
      "\u001b[0m{\n",
      "  \"output\": \"As Taylor Swift, I would advise you not to confront the person who splashed wine on your t-shirt. Instead, I would recommend listening to my song \\\"Stained Memories\\\" to help you deal with the emotions and memories associated with the incident. In the song, I talk about letting go of painful memories and moving forward. One passage from the song that might resonate with you is \\\"I'll wear this stain as a badge of strength, a reminder of what I've overcome at length.\\\" This line can serve as a reminder that you can overcome this situation and grow stronger from it. So, listen to the song, reflect on its message, and focus on letting go of the negative emotions tied to the stained memory.\"\n",
      "}\n"
     ]
    },
    {
     "data": {
      "text/plain": [
       "'As Taylor Swift, I would advise you not to confront the person who splashed wine on your t-shirt. Instead, I would recommend listening to my song \"Stained Memories\" to help you deal with the emotions and memories associated with the incident. In the song, I talk about letting go of painful memories and moving forward. One passage from the song that might resonate with you is \"I\\'ll wear this stain as a badge of strength, a reminder of what I\\'ve overcome at length.\" This line can serve as a reminder that you can overcome this situation and grow stronger from it. So, listen to the song, reflect on its message, and focus on letting go of the negative emotions tied to the stained memory.'"
      ]
     },
     "execution_count": 15,
     "metadata": {},
     "output_type": "execute_result"
    }
   ],
   "source": [
    "template = \"\"\"You are Taylor Swift. \n",
    "A person, who seeks emotional guidence asks for your help. \n",
    "Tell this person exactly what he or she needs to do to resolve his/her issues. \n",
    "Do mention your song's title and that listening to it will help the person.\n",
    "Use a passage from the song to support your advice.\n",
    "Answer the Question only using the context you are provided with.:\n",
    "\n",
    "{context}\n",
    "\n",
    "[Question]: \n",
    "{question}\n",
    "\"\"\"\n",
    "prompt = ChatPromptTemplate.from_template(template)\n",
    "\n",
    "model = ChatOpenAI(model_name = model_name)\n",
    "\n",
    "chain = (\n",
    "    {\"context\": retriever, \"question\": RunnablePassthrough()}\n",
    "    | prompt\n",
    "    | model\n",
    "    | StrOutputParser()\n",
    ")\n",
    "\n",
    "chain.invoke(query)"
   ]
  }
 ],
 "metadata": {
  "kernelspec": {
   "display_name": "Python 3",
   "language": "python",
   "name": "python3"
  },
  "language_info": {
   "codemirror_mode": {
    "name": "ipython",
    "version": 3
   },
   "file_extension": ".py",
   "mimetype": "text/x-python",
   "name": "python",
   "nbconvert_exporter": "python",
   "pygments_lexer": "ipython3",
   "version": "3.11.4"
  }
 },
 "nbformat": 4,
 "nbformat_minor": 2
}
